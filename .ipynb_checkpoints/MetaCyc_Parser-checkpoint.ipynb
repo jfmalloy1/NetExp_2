{
 "cells": [
  {
   "cell_type": "code",
   "execution_count": 38,
   "id": "87af1d53",
   "metadata": {},
   "outputs": [],
   "source": [
    "import json"
   ]
  },
  {
   "cell_type": "markdown",
   "id": "30587de2",
   "metadata": {},
   "source": [
    "# Parse Reactions file\n",
    "\n",
    "Goal = get list of compounds associated with each reaction, as well as directionality of each reaction"
   ]
  },
  {
   "cell_type": "code",
   "execution_count": 3,
   "id": "4368d642",
   "metadata": {},
   "outputs": [],
   "source": [
    "with open(\"C:/users/group/Desktop/25.1/data/reactions.dat\") as f:\n",
    "    rxn_data = f.read()\n",
    "    rxns = rxn_data.split(\"//\\n\") #Split data on \"//\" character"
   ]
  },
  {
   "cell_type": "code",
   "execution_count": null,
   "id": "38b6a769",
   "metadata": {},
   "outputs": [],
   "source": [
    "rxn_dict = {}\n",
    "for rxn in rxns[1:]:\n",
    "    unique_id = \"\"\n",
    "    reaction_direction = \"\"\n",
    "    right = []\n",
    "    left = []\n",
    "    \n",
    "    info = rxn.split(\"\\n\")\n",
    " \n",
    "    for line in info:\n",
    "        if line.startswith(\"UNIQUE-ID\"):\n",
    "            unique_id = line.split(\" - \")[1]\n",
    "        elif line.startswith(\"REACTION-DIRECTION\"):\n",
    "            reaction_direction = line.split(\" - \")[1]\n",
    "        elif line.startswith(\"RIGHT\"):\n",
    "            right.append(line.split(\" - \")[1])\n",
    "        elif line.startswith(\"LEFT\"):\n",
    "            left.append(line.split(\" - \")[1])\n",
    "            \n",
    "    rxn_dict[unique_id] = {\"dir\":reaction_direction, \"right\":right, \"left\":left}\n"
   ]
  },
  {
   "cell_type": "markdown",
   "id": "733d667a",
   "metadata": {},
   "source": [
    "Find unique direction entries"
   ]
  },
  {
   "cell_type": "code",
   "execution_count": 37,
   "id": "6dd68c92",
   "metadata": {},
   "outputs": [
    {
     "name": "stdout",
     "output_type": "stream",
     "text": [
      "{'', 'RIGHT-TO-LEFT', 'PHYSIOL-RIGHT-TO-LEFT', 'PHYSIOL-LEFT-TO-RIGHT', 'LEFT-TO-RIGHT', 'REVERSIBLE'}\n"
     ]
    }
   ],
   "source": [
    "unique_directions = set()\n",
    "for rxn, info in rxn_dict.items():\n",
    "    unique_directions.add(info[\"dir\"])\n",
    "    \n",
    "print(unique_directions)"
   ]
  },
  {
   "cell_type": "markdown",
   "id": "c5278dea",
   "metadata": {},
   "source": [
    "# Convert reactions to JSON format\n",
    "\n",
    "For use in network expansion\n",
    "\n",
    "Should be {products:{rxn:{direction, \\[cpds\\]}}, substrates:{rxn:{direction, \\[cpds\\]}}}"
   ]
  },
  {
   "cell_type": "code",
   "execution_count": 46,
   "id": "285238cd",
   "metadata": {},
   "outputs": [],
   "source": [
    "product_dict = {}\n",
    "substrate_dict = {}\n",
    "\n",
    "for rxn, info in rxn_dict.items():\n",
    "    product_dict[rxn] = {\"dir\":info[\"dir\"], \"cpds\":info[\"left\"]}\n",
    "    substrate_dict[rxn] = {\"dir\":info[\"dir\"], \"cpds\":info[\"right\"]}\n",
    "    \n",
    "master_dict = dict({\"products\":product_dict, \"substrates\":substrate_dict})"
   ]
  },
  {
   "cell_type": "code",
   "execution_count": 47,
   "id": "1bca1070",
   "metadata": {},
   "outputs": [],
   "source": [
    "with open(\"Data/metacyc_reactions_edges.json\", \"w\") as f:\n",
    "    json.dump(master_dict, f, indent=4)"
   ]
  }
 ],
 "metadata": {
  "kernelspec": {
   "display_name": "Python 3 (ipykernel)",
   "language": "python",
   "name": "python3"
  },
  "language_info": {
   "codemirror_mode": {
    "name": "ipython",
    "version": 3
   },
   "file_extension": ".py",
   "mimetype": "text/x-python",
   "name": "python",
   "nbconvert_exporter": "python",
   "pygments_lexer": "ipython3",
   "version": "3.7.10"
  }
 },
 "nbformat": 4,
 "nbformat_minor": 5
}

{
 "cells": [
  {
   "cell_type": "code",
   "execution_count": 2,
   "metadata": {},
   "outputs": [],
   "source": [
    "import json"
   ]
  },
  {
   "cell_type": "markdown",
   "metadata": {},
   "source": [
    "# Parse Reactions file\n",
    "\n",
    "Goal = get list of compounds associated with each reaction, as well as directionality of each reaction"
   ]
  },
  {
   "cell_type": "code",
   "execution_count": 3,
   "metadata": {},
   "outputs": [],
   "source": [
    "with open(\"C:/users/group/Desktop/25.1/data/reactions.dat\") as f:\n",
    "    rxn_data = f.read()\n",
    "    rxns = rxn_data.split(\"//\\n\") #Split data on \"//\" character"
   ]
  },
  {
   "cell_type": "code",
   "execution_count": null,
   "metadata": {},
   "outputs": [],
   "source": [
    "rxn_dict = {}\n",
    "for rxn in rxns[1:]:\n",
    "    unique_id = \"\"\n",
    "    reaction_direction = \"\"\n",
    "    right = []\n",
    "    left = []\n",
    "    \n",
    "    info = rxn.split(\"\\n\")\n",
    " \n",
    "    for line in info:\n",
    "        if line.startswith(\"UNIQUE-ID\"):\n",
    "            unique_id = line.split(\" - \")[1]\n",
    "        elif line.startswith(\"REACTION-DIRECTION\"):\n",
    "            reaction_direction = line.split(\" - \")[1]\n",
    "        elif line.startswith(\"RIGHT\"):\n",
    "            right.append(line.split(\" - \")[1])\n",
    "        elif line.startswith(\"LEFT\"):\n",
    "            left.append(line.split(\" - \")[1])\n",
    "            \n",
    "    rxn_dict[unique_id] = {\"dir\":reaction_direction, \"right\":right, \"left\":left}\n"
   ]
  },
  {
   "cell_type": "markdown",
   "metadata": {},
   "source": [
    "Find unique direction entries"
   ]
  },
  {
   "cell_type": "code",
   "execution_count": 37,
   "metadata": {},
   "outputs": [
    {
     "name": "stdout",
     "output_type": "stream",
     "text": [
      "{'', 'RIGHT-TO-LEFT', 'PHYSIOL-RIGHT-TO-LEFT', 'PHYSIOL-LEFT-TO-RIGHT', 'LEFT-TO-RIGHT', 'REVERSIBLE'}\n"
     ]
    }
   ],
   "source": [
    "unique_directions = set()\n",
    "for rxn, info in rxn_dict.items():\n",
    "    unique_directions.add(info[\"dir\"])\n",
    "    \n",
    "print(unique_directions)"
   ]
  },
  {
   "cell_type": "markdown",
   "metadata": {},
   "source": [
    "# Convert reactions to JSON format\n",
    "\n",
    "For use in network expansion\n",
    "\n",
    "Should be {products:{rxn:{direction, \\[cpds\\]}}, substrates:{rxn:{direction, \\[cpds\\]}}}"
   ]
  },
  {
   "cell_type": "code",
   "execution_count": 50,
   "metadata": {},
   "outputs": [],
   "source": [
    "product_dict = {}\n",
    "substrate_dict = {}\n",
    "\n",
    "for rxn, info in rxn_dict.items():\n",
    "    product_dict[rxn] = {\"dir\":info[\"dir\"], \"cpds\":info[\"right\"]}\n",
    "    substrate_dict[rxn] = {\"dir\":info[\"dir\"], \"cpds\":info[\"left\"]}\n",
    "    \n",
    "master_dict = dict({\"products\":product_dict, \"substrates\":substrate_dict})"
   ]
  },
  {
   "cell_type": "code",
   "execution_count": 51,
   "metadata": {},
   "outputs": [],
   "source": [
    "with open(\"Data/metacyc_reactions_edges.json\", \"w\") as f:\n",
    "    json.dump(master_dict, f, indent=2)"
   ]
  },
  {
   "cell_type": "markdown",
   "metadata": {},
   "source": [
    "# Parse compounds\n",
    "\n",
    "To find inchi representations of each compound"
   ]
  },
  {
   "cell_type": "code",
   "execution_count": 1,
   "metadata": {},
   "outputs": [],
   "source": [
    "with open(\"C:/users/group/Desktop/25.1/data/compounds.dat\") as f:\n",
    "    cpd_data = f.read()\n",
    "    cpds = cpd_data.split(\"//\\n\") #Split data on \"//\" character"
   ]
  },
  {
   "cell_type": "code",
   "execution_count": 11,
   "metadata": {},
   "outputs": [],
   "source": [
    "cpd_dict = {}\n",
    "for cpd in cpds[1:]:\n",
    "    unique_id = \"\"\n",
    "    inchi = \"\"\n",
    "    \n",
    "    info = cpd.split(\"\\n\") \n",
    "    \n",
    "    for line in info:\n",
    "        if line.startswith(\"UNIQUE-ID\"):\n",
    "            unique_id = line.split(\" - \")[1]\n",
    "        if line.startswith(\"NON-STANDARD-INCHI\"):\n",
    "            inchi = line.split(\" - \")[1]\n",
    "        if line.startswith(\"SMILES\"):\n",
    "            smiles = line.split(\" - \")[1]\n",
    "            \n",
    "    cpd_dict[unique_id] = {\"inchi\":inchi, \"smiles\":smiles}"
   ]
  },
  {
   "cell_type": "code",
   "execution_count": 12,
   "metadata": {},
   "outputs": [],
   "source": [
    "#Write to a json file\n",
    "with open(\"Data/metacyc_cpds.json\", \"w\") as f:\n",
    "    json.dump(cpd_dict, f, indent=2)"
   ]
  }
 ],
 "metadata": {
  "kernelspec": {
   "display_name": "Python 3",
   "language": "python",
   "name": "python3"
  },
  "language_info": {
   "codemirror_mode": {
    "name": "ipython",
    "version": 3
   },
   "file_extension": ".py",
   "mimetype": "text/x-python",
   "name": "python",
   "nbconvert_exporter": "python",
   "pygments_lexer": "ipython3",
   "version": "3.7.3"
  }
 },
 "nbformat": 4,
 "nbformat_minor": 5
}
